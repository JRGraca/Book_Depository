{
 "cells": [
  {
   "cell_type": "code",
   "execution_count": 178,
   "metadata": {},
   "outputs": [],
   "source": [
    "import pandas as pd\n",
    "import numpy as np\n",
    "import requests as rq\n",
    "from bs4 import BeautifulSoup\n",
    "from random import randint\n",
    "from time import sleep"
   ]
  },
  {
   "cell_type": "code",
   "execution_count": 179,
   "metadata": {},
   "outputs": [],
   "source": [
    "wishlist = pd.read_csv('wishlist.csv', delimiter=';')"
   ]
  },
  {
   "cell_type": "code",
   "execution_count": 180,
   "metadata": {},
   "outputs": [],
   "source": [
    "wishlist.drop(columns='Notes', inplace=True)"
   ]
  },
  {
   "cell_type": "code",
   "execution_count": 181,
   "metadata": {},
   "outputs": [
    {
     "name": "stdout",
     "output_type": "stream",
     "text": [
      "Scraping... 9780751565355\n",
      "Sleeping for 4 seconds...\n",
      "Scraping... 9780929712697\n",
      "Sleeping for 5 seconds...\n",
      "Scraping... 9780929712376\n",
      "Sleeping for 3 seconds...\n",
      "Scraping... 9780874179880\n",
      "Sleeping for 5 seconds...\n",
      "Scraping... 9781471156267\n",
      "Sleeping for 4 seconds...\n",
      "Scraping... 9780062456786\n",
      "Sleeping for 4 seconds...\n",
      "Scraping... 9780990001638\n",
      "Sleeping for 3 seconds...\n"
     ]
    }
   ],
   "source": [
    "#BOOK DEPOSITORY\n",
    "\n",
    "#Since I'm assuming the input is a Book Depository wishlist, I don't include error handling for the case in which the book might not exist in the database.\n",
    "#As I write this, I realize I probably should, because of Murphy's Law, but this code will only be valid for a few weeks, anyway, so nah\n",
    "\n",
    "price_list_bd = []\n",
    "\n",
    "for item in wishlist['ISBN']:\n",
    "    url = r'https://www.bookdepository.com/isbn/' + str(item)\n",
    "    print(\"Scraping... \" + str(item))\n",
    "    html = rq.get(url)\n",
    "    if html.status_code != 200:\n",
    "        print(\"Page not read\")\n",
    "        break\n",
    "    else:\n",
    "        soup = BeautifulSoup(html.content)\n",
    "        test_if_there_is_price = soup.find(\"span\", class_ = \"sale-price\")\n",
    "        if test_if_there_is_price is None: #There is no \"sale-price\" class - this means the book is out of stock\n",
    "            price = np.nan\n",
    "        else: #Otherwise, finds the price and processes it to convert it to a numeric value. Assumes price is in €uros\n",
    "            price_string = soup.find(\"span\", class_ = \"sale-price\").text\n",
    "            price = float(price_string.replace(\",\", \".\")[:-2])\n",
    "    price_list_bd.append(price)\n",
    "    time_to_sleep = randint(1,6)\n",
    "    print(\"Sleeping for \" + str(time_to_sleep) + \" seconds...\")\n",
    "    sleep(time_to_sleep)\n",
    "wishlist['Price_BD'] = pd.Series(price_list_bd)\n",
    "        "
   ]
  },
  {
   "cell_type": "code",
   "execution_count": 182,
   "metadata": {},
   "outputs": [
    {
     "name": "stdout",
     "output_type": "stream",
     "text": [
      "Scraping... 9780751565355\n",
      "Sleeping for 4 seconds...\n",
      "Scraping... 9780929712697\n",
      "Sleeping for 5 seconds...\n",
      "Scraping... 9780929712376\n",
      "Sleeping for 3 seconds...\n",
      "Scraping... 9780874179880\n",
      "Sleeping for 2 seconds...\n",
      "Scraping... 9781471156267\n",
      "Sleeping for 5 seconds...\n",
      "Scraping... 9780062456786\n",
      "Sleeping for 1 seconds...\n",
      "Scraping... 9780990001638\n",
      "Sleeping for 6 seconds...\n"
     ]
    }
   ],
   "source": [
    "#BLACKWELL'S\n",
    "\n",
    "price_list = []\n",
    "\n",
    "for item in wishlist['ISBN']:\n",
    "    url = 'https://blackwells.co.uk/bookshop/product/' + str(item)\n",
    "    print(\"Scraping... \" + str(item))\n",
    "    html = rq.get(url)\n",
    "    if html.status_code != 200: # Status code different from 200 means request was not successful\n",
    "        print(f\"Page not read - {item}\")\n",
    "        price = np.nan\n",
    "    else:\n",
    "        soup = BeautifulSoup(html.content)\n",
    "        if soup.find_all(string=\"Not available for sale\") == []: #If the book is available for sale, the string will not exist, so we can check the price\n",
    "            price_string = soup.find(\"li\", class_=\"product-price--current\")\n",
    "            #The site will generate pages based on any valid isbn you write, however, if they don't have it in the database the page will be blank.\n",
    "            #In that case, the string test above will not show a problem, so we have to test if the <li> tag actually exists (ie, the book exists in the database)\n",
    "            if price_string is None: \n",
    "                price = np.nan\n",
    "                print(f\"Book not in catalogue - \" + str(item))\n",
    "            else: #When the book exists in the database, this will process the price to a useful format. Assumes price is in €uros\n",
    "                price = float(price_string.text.strip().replace(\",\", \".\")[:-1])\n",
    "        else: #Book in catalogue, but out of stock\n",
    "            price = np.nan\n",
    "    price_list.append(price)\n",
    "    time_to_sleep = randint(1,6)\n",
    "    print(\"Sleeping for \" + str(time_to_sleep) + \" seconds...\")\n",
    "    sleep(time_to_sleep)\n",
    "wishlist['Price_BW'] = pd.Series(price_list)"
   ]
  },
  {
   "cell_type": "code",
   "execution_count": 183,
   "metadata": {},
   "outputs": [],
   "source": [
    "#This will create two tables, one for each bookshop. In each of those tables are all books which are cheaper in that particular bookshop and\n",
    "#all books which are not available in the other bookshop, sorted by price (cheapest first)\n",
    "\n",
    "BW_books = wishlist[(wishlist['Price_BW'] < wishlist['Price_BD']) | (wishlist['Price_BD'].isna())].sort_values(by='Price_BW')\n",
    "\n",
    "BD_books = wishlist[(wishlist['Price_BW'] > wishlist['Price_BD']) | (wishlist['Price_BW'].isna())].sort_values(by='Price_BD')"
   ]
  },
  {
   "cell_type": "code",
   "execution_count": 184,
   "metadata": {},
   "outputs": [
    {
     "name": "stdout",
     "output_type": "stream",
     "text": [
      "Recommended book to buy at Blackwell's is It Ends With Us: The most heartbreaking novel you'll ever read by Colleen Hoover, ISBN 9781471156267 for €10.79\n",
      "Recommended book to buy at the Book Depository is Harry Potter and the Cursed Child - Parts I & II by J. K. Rowling, ISBN 9780751565355 for €19.06\n"
     ]
    }
   ],
   "source": [
    "#This prints out the recommendation of what books to buy\n",
    "\n",
    "print(f'Recommended book to buy at Blackwell\\'s is {BW_books.iloc[0][2]} by {BW_books.iloc[0][3]}, ISBN {BW_books.iloc[0][1]} for €{BW_books.iloc[0][5]}')\n",
    "\n",
    "print(f'Recommended book to buy at the Book Depository is {BD_books.iloc[0][2]} by {BD_books.iloc[0][3]}, ISBN {BD_books.iloc[0][1]} for €{BD_books.iloc[0][4]}')"
   ]
  },
  {
   "cell_type": "code",
   "execution_count": 170,
   "metadata": {},
   "outputs": [
    {
     "data": {
      "text/html": [
       "<div>\n",
       "<style scoped>\n",
       "    .dataframe tbody tr th:only-of-type {\n",
       "        vertical-align: middle;\n",
       "    }\n",
       "\n",
       "    .dataframe tbody tr th {\n",
       "        vertical-align: top;\n",
       "    }\n",
       "\n",
       "    .dataframe thead th {\n",
       "        text-align: right;\n",
       "    }\n",
       "</style>\n",
       "<table border=\"1\" class=\"dataframe\">\n",
       "  <thead>\n",
       "    <tr style=\"text-align: right;\">\n",
       "      <th></th>\n",
       "      <th>Wishlist</th>\n",
       "      <th>ISBN</th>\n",
       "      <th>Title</th>\n",
       "      <th>Author</th>\n",
       "      <th>Notes</th>\n",
       "      <th>Price_BD</th>\n",
       "      <th>Price_BW</th>\n",
       "    </tr>\n",
       "  </thead>\n",
       "  <tbody>\n",
       "    <tr>\n",
       "      <th>0</th>\n",
       "      <td>Teste wishlist</td>\n",
       "      <td>9780751565355</td>\n",
       "      <td>Harry Potter and the Cursed Child - Parts I &amp; II</td>\n",
       "      <td>J. K. Rowling</td>\n",
       "      <td>NaN</td>\n",
       "      <td>19.06</td>\n",
       "      <td>21.31</td>\n",
       "    </tr>\n",
       "    <tr>\n",
       "      <th>1</th>\n",
       "      <td>Teste wishlist</td>\n",
       "      <td>9780929712697</td>\n",
       "      <td>On the Boulevard</td>\n",
       "      <td>John L. Smith</td>\n",
       "      <td>NaN</td>\n",
       "      <td>22.94</td>\n",
       "      <td>NaN</td>\n",
       "    </tr>\n",
       "    <tr>\n",
       "      <th>2</th>\n",
       "      <td>Teste wishlist</td>\n",
       "      <td>9780929712376</td>\n",
       "      <td>The Battle for Las Vegas</td>\n",
       "      <td>Dennis N. Griffin</td>\n",
       "      <td>NaN</td>\n",
       "      <td>17.45</td>\n",
       "      <td>17.41</td>\n",
       "    </tr>\n",
       "    <tr>\n",
       "      <th>3</th>\n",
       "      <td>Teste wishlist</td>\n",
       "      <td>9780874179880</td>\n",
       "      <td>Sun, Sin &amp; Suburbia</td>\n",
       "      <td>Geoff Schumacher</td>\n",
       "      <td>NaN</td>\n",
       "      <td>24.42</td>\n",
       "      <td>23.44</td>\n",
       "    </tr>\n",
       "    <tr>\n",
       "      <th>4</th>\n",
       "      <td>Teste wishlist</td>\n",
       "      <td>9781471156267</td>\n",
       "      <td>It Ends With Us: The most heartbreaking novel ...</td>\n",
       "      <td>Colleen Hoover</td>\n",
       "      <td>NaN</td>\n",
       "      <td>10.87</td>\n",
       "      <td>10.79</td>\n",
       "    </tr>\n",
       "    <tr>\n",
       "      <th>5</th>\n",
       "      <td>Teste wishlist</td>\n",
       "      <td>9780062456786</td>\n",
       "      <td>The Gambler</td>\n",
       "      <td>William C. Rempel</td>\n",
       "      <td>NaN</td>\n",
       "      <td>23.60</td>\n",
       "      <td>13.73</td>\n",
       "    </tr>\n",
       "    <tr>\n",
       "      <th>6</th>\n",
       "      <td>Teste wishlist</td>\n",
       "      <td>9780990001638</td>\n",
       "      <td>At the Sands</td>\n",
       "      <td>David G Schwartz</td>\n",
       "      <td>NaN</td>\n",
       "      <td>25.09</td>\n",
       "      <td>21.50</td>\n",
       "    </tr>\n",
       "  </tbody>\n",
       "</table>\n",
       "</div>"
      ],
      "text/plain": [
       "         Wishlist           ISBN  \\\n",
       "0  Teste wishlist  9780751565355   \n",
       "1  Teste wishlist  9780929712697   \n",
       "2  Teste wishlist  9780929712376   \n",
       "3  Teste wishlist  9780874179880   \n",
       "4  Teste wishlist  9781471156267   \n",
       "5  Teste wishlist  9780062456786   \n",
       "6  Teste wishlist  9780990001638   \n",
       "\n",
       "                                               Title             Author  \\\n",
       "0   Harry Potter and the Cursed Child - Parts I & II      J. K. Rowling   \n",
       "1                                   On the Boulevard      John L. Smith   \n",
       "2                           The Battle for Las Vegas  Dennis N. Griffin   \n",
       "3                                Sun, Sin & Suburbia   Geoff Schumacher   \n",
       "4  It Ends With Us: The most heartbreaking novel ...     Colleen Hoover   \n",
       "5                                        The Gambler  William C. Rempel   \n",
       "6                                       At the Sands   David G Schwartz   \n",
       "\n",
       "   Notes  Price_BD  Price_BW  \n",
       "0    NaN     19.06     21.31  \n",
       "1    NaN     22.94       NaN  \n",
       "2    NaN     17.45     17.41  \n",
       "3    NaN     24.42     23.44  \n",
       "4    NaN     10.87     10.79  \n",
       "5    NaN     23.60     13.73  \n",
       "6    NaN     25.09     21.50  "
      ]
     },
     "execution_count": 170,
     "metadata": {},
     "output_type": "execute_result"
    }
   ],
   "source": [
    "wishlist"
   ]
  }
 ],
 "metadata": {
  "kernelspec": {
   "display_name": "home_projects",
   "language": "python",
   "name": "python3"
  },
  "language_info": {
   "codemirror_mode": {
    "name": "ipython",
    "version": 3
   },
   "file_extension": ".py",
   "mimetype": "text/x-python",
   "name": "python",
   "nbconvert_exporter": "python",
   "pygments_lexer": "ipython3",
   "version": "3.9.16"
  },
  "orig_nbformat": 4,
  "vscode": {
   "interpreter": {
    "hash": "b1c3fac89d3c1309bfce75e8d0a6d88b6f98de60557d5fab5a0078d3592abfe3"
   }
  }
 },
 "nbformat": 4,
 "nbformat_minor": 2
}
